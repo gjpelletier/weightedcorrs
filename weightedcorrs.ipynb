{
  "nbformat": 4,
  "nbformat_minor": 0,
  "metadata": {
    "colab": {
      "provenance": []
    },
    "kernelspec": {
      "name": "python3",
      "display_name": "Python 3"
    },
    "language_info": {
      "name": "python"
    }
  },
  "cells": [
    {
      "cell_type": "markdown",
      "source": [
        "#weightedcorrs.py - Python function to calculate weighted correlation coefficients, covariance, and standard deviations\n",
        "\n",
        "SYNTAX\n",
        "\n",
        "- results = weightedcorrs(X)\n",
        "- results = weightedcorrs(X,w)\n",
        "\n",
        "weightedcorrs returns a **results** dictionary that contains four outputs: **R**, **p**, **wcov**, and **wstd**.\n",
        "\n",
        "**results['R']** is the output of the weighted Pearson correlation coefficients calculated from an input nobs-by-nvar matrix X whose rows are observations and whose columns are variables and an input nobs-by-1 vector w of weights for the observations. This function may be a valid alternative to np.corrcoef if observations are not all equally relevant and need to be weighted according to some theoretical hypothesis or knowledge.\n",
        "\n",
        "**results['p']** is the output of the p-values of the Pearson correlation coefficients\n",
        "\n",
        "**results['wcov']** is the output of the weighted covariance matrix\n",
        "\n",
        "**results['wstd']** is the output of the weighted standard deviations\n",
        "\n",
        "Input of w is optional.\n",
        "If w=0, 1, or is omitted, then the function assigns w = np.ones(nobs).\n",
        "If w=0 or omitted, then the covariance and standard deviations are unweighted and normalizd to nobs-1.\n",
        "If w=1, then the covariance and standard deviations are unweighted and normlizd to nobs.\n",
        "Otherwise, if w is an input vector of weights, then results are normalized to nobs for output of standard deviations and covariance.\n",
        "If w=0 or omitted, or if the input vector of w = np.ones(nobs), then no difference exists between\n",
        "weightedcorrs(X, w) and np.corrcoef(X,rowvar=False).\n",
        "\n",
        "___\n",
        "\n",
        "REFERENCE: the mathematical formulas in matrix notation, together with the original matlab code (weightedcorrs.m), is also available in F. Pozzi, T. Di Matteo, T. Aste, \"Exponential smoothing weighted correlations\", The European Physical Journal B, Volume 85, Issue 6, 2012. DOI:10.1140/epjb/e2012-20697-x. (https://www.researchgate.net/publication/257866466_Exponential_smoothing_weighted_correlations)\n",
        "___\n",
        "\n",
        "Adapted from weightedcorrs.m (Pozzi et al. 2012). Modified by Greg Pelletier 22-Jan-2024 to also output weighted covariance matrix and calculate weighted standard deviations, and allow optional input of weighting factors for use with unweighted analysis or normalization to nobs-1\n",
        "\n",
        "___"
      ],
      "metadata": {
        "id": "7eJK43OzRJ5h"
      }
    },
    {
      "cell_type": "markdown",
      "source": [
        "First we will define the weightedcorrs function as follows:"
      ],
      "metadata": {
        "id": "iwA1jzRXoB28"
      }
    },
    {
      "cell_type": "code",
      "source": [
        "def weightedcorrs(X,w=0):\n",
        "\n",
        "  import sys\n",
        "  import numpy as np\n",
        "  import numpy.matlib\n",
        "  import scipy.stats\n",
        "\n",
        "  nobs,nvar = np.shape(X)   # nobs: number of observations; nvar: number of variables\n",
        "\n",
        "  if np.size(w) == 1:\n",
        "    if w==0:\n",
        "      df_eq_nobs = False\n",
        "    elif w==1:\n",
        "      df_eq_nobs = True\n",
        "    else:\n",
        "      print('Error in weightcorrs: w needs be either unspecified, 0, 1, or a vector of real non-negative numbers with no infinite or nan values!','\\n')\n",
        "      sys.exit()\n",
        "    w = np.ones(nobs)\n",
        "  else:\n",
        "    df_eq_nobs = True\n",
        "\n",
        "  if not(np.shape(X)[0] == np.size(w)):\n",
        "    print('Error in weightcorrs: np.shape(X)[0] has to be equal to np.size(w) (number of observations)!','\\n')\n",
        "    sys.exit()\n",
        "\n",
        "  ctrl = w.ndim==1 and np.isreal(w).all() and (not np.isnan(w).any()) and (not np.isinf(w).any()) and np.all((w>=0)) and (np.sum(w)>0)\n",
        "  if not ctrl:\n",
        "    print('Error in weightcorrs: w needs be a vector of real non-negative numbers with no infinite or nan values!','\\n')\n",
        "    sys.exit()\n",
        "\n",
        "  ctrl = np.isreal(X).all() and (not np.isnan(w).any()) and (not np.isinf(w).any()) and X.ndim==2\n",
        "  if not ctrl:\n",
        "    print('Error in weightcorrs: X needs be a 2D array of real non-negative numbers with no infinite or nan values!','\\n')\n",
        "    sys.exit()\n",
        "\n",
        "  w = w / np.sum(w)\n",
        "  temp = X - np.matlib.repmat(w @ X,nobs,1)              # remove mean (which is, also, weighted)\n",
        "  temp = temp.T @ (temp * (np.matlib.repmat(w, nvar, 1)).T)    # weighted covariance\n",
        "  wstd = np.sqrt(np.diag(temp))\n",
        "  if df_eq_nobs == False:\n",
        "    wstd = wstd * np.sqrt(nobs/(nobs-1));\t\t\t\t\t\t\t# normalize to nobs-1 if w=0 or missing\n",
        "  temp = 0.5 * (temp + temp.T)                        # must be exactly symmetric\n",
        "  R = np.diag(temp)                                   # weighted variances normalized to nobs\n",
        "  R = R.reshape(-1, 1)                                # reshape to vector column\n",
        "  R = temp / np.sqrt(R @ R.T)                         # weighted correlation matrix\n",
        "  D = np.diag(wstd)\n",
        "  wcov = D @ R @ D\t\t\t\t\t\t\t\t\t\t\t\t\t\t\t  \t  # weighted covariance matrix\n",
        "\n",
        "  dist = scipy.stats.beta(nobs/2 - 1, nobs/2 - 1, loc=-1, scale=2)\n",
        "  p = 2*dist.cdf(-abs(R))                             # p-values of the correlation coefficients\n",
        "\n",
        "  # put the outputs into the results dictionary\n",
        "  results = {\n",
        "    'R': R,\n",
        "    'p': p,\n",
        "    'wcov': wcov,\n",
        "    'wstd': wstd\n",
        "    }\n",
        "\n",
        "  return results"
      ],
      "metadata": {
        "id": "QkL2ESCwoAsa"
      },
      "execution_count": 1,
      "outputs": []
    },
    {
      "cell_type": "markdown",
      "source": [
        "Next we will show an example of using the weightedcorrs function. We will need to import numpy first"
      ],
      "metadata": {
        "id": "CsM_AevHpoA1"
      }
    },
    {
      "cell_type": "code",
      "execution_count": 2,
      "metadata": {
        "id": "M17KhQAlRI-g"
      },
      "outputs": [],
      "source": [
        "import numpy as np"
      ]
    },
    {
      "cell_type": "markdown",
      "source": [
        "We will use a data set from the MATLAB example data packages called 'hospital'. The X array will be a three column array, where the first column is the patient's weight, the second column is the systolic blood pressure, and the third column is the diastolic blood pressure.\n",
        "\n",
        "Note that weightedcorrs requires the first index of X to be rows of observations, and the second index to be columns of random variables."
      ],
      "metadata": {
        "id": "liZ34lWLroFe"
      }
    },
    {
      "cell_type": "code",
      "source": [
        "X = [np.array([176., 163., 131., 133., 119., 142., 142., 180., 183., 132., 128.,\n",
        "        137., 174., 202., 129., 181., 191., 131., 179., 172., 133., 117.,\n",
        "        137., 146., 123., 189., 143., 114., 166., 186., 126., 137., 138.,\n",
        "        187., 193., 137., 192., 118., 180., 128., 164., 183., 169., 194.,\n",
        "        172., 135., 182., 121., 158., 179., 170., 136., 135., 147., 186.,\n",
        "        124., 134., 170., 180., 130., 130., 127., 141., 111., 134., 189.,\n",
        "        137., 136., 130., 137., 186., 127., 176., 127., 115., 178., 131.,\n",
        "        183., 194., 126., 186., 188., 189., 120., 132., 182., 120., 123.,\n",
        "        141., 129., 184., 181., 124., 174., 134., 171., 188., 186., 172.,\n",
        "        177.]),\n",
        " np.array([124., 109., 125., 117., 122., 121., 130., 115., 115., 118., 114.,\n",
        "        115., 127., 130., 114., 130., 124., 123., 119., 125., 121., 123.,\n",
        "        114., 128., 129., 114., 113., 125., 120., 127., 134., 121., 115.,\n",
        "        127., 121., 127., 136., 117., 124., 120., 128., 116., 132., 137.,\n",
        "        117., 116., 119., 123., 116., 124., 129., 130., 132., 117., 129.,\n",
        "        118., 120., 138., 117., 113., 122., 115., 120., 117., 123., 123.,\n",
        "        119., 110., 121., 138., 125., 122., 120., 117., 125., 124., 121.,\n",
        "        118., 120., 118., 118., 122., 134., 131., 113., 125., 135., 128.,\n",
        "        123., 122., 138., 124., 130., 123., 129., 128., 124., 119., 136.,\n",
        "        114.]),\n",
        " np.array([93., 77., 83., 75., 80., 70., 88., 82., 78., 86., 77., 68., 74.,\n",
        "        95., 79., 92., 95., 79., 77., 76., 75., 79., 88., 90., 96., 77.,\n",
        "        80., 76., 83., 89., 92., 83., 80., 84., 92., 83., 90., 85., 90.,\n",
        "        74., 92., 80., 89., 96., 89., 77., 81., 76., 83., 78., 95., 91.,\n",
        "        91., 86., 89., 79., 74., 82., 76., 81., 77., 73., 85., 76., 80.,\n",
        "        80., 79., 82., 79., 82., 75., 91., 74., 78., 85., 84., 75., 78.,\n",
        "        81., 79., 85., 79., 82., 80., 80., 92., 92., 96., 87., 81., 90.,\n",
        "        77., 91., 79., 73., 99., 92., 74., 93., 86.])]\n",
        "\n",
        "# transpose X so that the first index is rows of observations (nobs), and the second index is columns of random variables (nvar)\n",
        "X = np.transpose(X)"
      ],
      "metadata": {
        "id": "Tbk3pkiXqsUG"
      },
      "execution_count": 3,
      "outputs": []
    },
    {
      "cell_type": "markdown",
      "source": [
        "Next we will define the weighting factors to use for the analysis. In this example we will use the patients Age from the hospital data set as the weighting factors w."
      ],
      "metadata": {
        "id": "8zmbaPGfs9xS"
      }
    },
    {
      "cell_type": "code",
      "source": [
        "w = np.array([38., 43., 38., 40., 49., 46., 33., 40., 28., 31., 45., 42., 25.,\n",
        "       39., 36., 48., 32., 27., 37., 50., 48., 39., 41., 44., 28., 25.,\n",
        "       39., 25., 36., 30., 45., 40., 25., 47., 44., 48., 44., 35., 33.,\n",
        "       38., 39., 44., 44., 37., 45., 37., 30., 39., 42., 42., 49., 44.,\n",
        "       43., 47., 50., 38., 41., 45., 36., 38., 29., 28., 30., 28., 29.,\n",
        "       36., 45., 32., 31., 48., 25., 40., 39., 41., 33., 31., 35., 32.,\n",
        "       42., 48., 34., 39., 28., 29., 32., 39., 37., 49., 31., 37., 38.,\n",
        "       45., 30., 48., 48., 25., 44., 49., 45., 48.])"
      ],
      "metadata": {
        "id": "4jXJZZm9tMSv"
      },
      "execution_count": 4,
      "outputs": []
    },
    {
      "cell_type": "markdown",
      "source": [
        "Now we are ready to show the example of using weightedcorrs to calculate the weighted correlation coefficients, weighted covariance, and weighted standard deviations as follows:"
      ],
      "metadata": {
        "id": "vVZflFfjtUmT"
      }
    },
    {
      "cell_type": "code",
      "source": [
        "output = weightedcorrs(X,w)\n",
        "\n",
        "R = output['R']\n",
        "p = output['p']\n",
        "wcov = output['wcov']\n",
        "wstd = output['wstd']\n",
        "\n",
        "print('weighted correlation coefficient matrix of X: ','\\n',R,'\\n')\n",
        "print('p-values of the correlation coefficients: ','\\n',p,'\\n')\n",
        "print('weighted covariance matrix of X: ','\\n',wcov,'\\n')\n",
        "print('weighted standard deviations X: ','\\n',wstd)"
      ],
      "metadata": {
        "colab": {
          "base_uri": "https://localhost:8080/"
        },
        "id": "8SCxUh8btfma",
        "outputId": "13470489-718d-462a-d235-101de6be8921"
      },
      "execution_count": 5,
      "outputs": [
        {
          "output_type": "stream",
          "name": "stdout",
          "text": [
            "weighted correlation coefficient matrix of X:  \n",
            " [[1.         0.1554138  0.23071152]\n",
            " [0.1554138  1.         0.51036961]\n",
            " [0.23071152 0.51036961 1.        ]] \n",
            "\n",
            "p-values of the correlation coefficients:  \n",
            " [[0.00000000e+00 1.22589252e-01 2.09237757e-02]\n",
            " [1.22589252e-01 0.00000000e+00 5.81286900e-08]\n",
            " [2.09237757e-02 5.81286900e-08 0.00000000e+00]] \n",
            "\n",
            "weighted covariance matrix of X:  \n",
            " [[683.62291955  27.48984917  41.78750454]\n",
            " [ 27.48984917  45.76662876  23.91817879]\n",
            " [ 41.78750454  23.91817879  47.9885557 ]] \n",
            "\n",
            "weighted standard deviations X:  \n",
            " [26.14618365  6.76510375  6.92737726]\n"
          ]
        }
      ]
    },
    {
      "cell_type": "markdown",
      "source": [
        "We can also use weightedcorrs to find the unweighted correlation coeeficients, covariance, and standard devations, normalized to nobs-1, by omitting the w argument (or by using 0 as the w argument) as follows:"
      ],
      "metadata": {
        "id": "wU4kY4ESv-Dv"
      }
    },
    {
      "cell_type": "code",
      "source": [
        "output = weightedcorrs(X)\n",
        "\n",
        "R = output['R']\n",
        "p = output['p']\n",
        "wcov = output['wcov']\n",
        "wstd = output['wstd']\n",
        "\n",
        "print('unweighted correlation coefficient matrix of X normalized to nobs-1: ','\\n',R,'\\n')\n",
        "print('p-values of the correlation coefficients: ','\\n',p,'\\n')\n",
        "print('unweighted covariance matrix of X normalized to nobs-1: ','\\n',wcov,'\\n')\n",
        "print('unweighted standard deviations X normalized to nobs-1: ','\\n',wstd)"
      ],
      "metadata": {
        "colab": {
          "base_uri": "https://localhost:8080/"
        },
        "id": "W6RFYqiuwKtg",
        "outputId": "6af3493f-572a-495f-d343-497fa2009eb5"
      },
      "execution_count": 6,
      "outputs": [
        {
          "output_type": "stream",
          "name": "stdout",
          "text": [
            "unweighted correlation coefficient matrix of X normalized to nobs-1:  \n",
            " [[1.         0.15578811 0.22268743]\n",
            " [0.15578811 1.         0.51184337]\n",
            " [0.22268743 0.51184337 1.        ]] \n",
            "\n",
            "p-values of the correlation coefficients:  \n",
            " [[0.00000000e+00 1.21679870e-01 2.59526981e-02]\n",
            " [1.21679870e-01 0.00000000e+00 5.24599575e-08]\n",
            " [2.59526981e-02 5.24599575e-08 0.00000000e+00]] \n",
            "\n",
            "unweighted covariance matrix of X normalized to nobs-1:  \n",
            " [[706.04040404  27.78787879  41.02020202]\n",
            " [ 27.78787879  45.06222222  23.81939394]\n",
            " [ 41.02020202  23.81939394  48.0589899 ]] \n",
            "\n",
            "unweighted standard deviations X normalized to nobs-1:  \n",
            " [26.57142081  6.7128401   6.93245915]\n"
          ]
        }
      ]
    },
    {
      "cell_type": "markdown",
      "source": [
        "We can also use weightedcorrs to find the unweighted correlation coeeficients, covariance, and standard devations, normalized to nobs as follows:"
      ],
      "metadata": {
        "id": "zXJ7yei08BDV"
      }
    },
    {
      "cell_type": "code",
      "source": [
        "output = weightedcorrs(X,1)\n",
        "\n",
        "R = output['R']\n",
        "p = output['p']\n",
        "wcov = output['wcov']\n",
        "wstd = output['wstd']\n",
        "\n",
        "print('unweighted correlation coefficient matrix of X normalized to nobs: ','\\n',R,'\\n')\n",
        "print('p-values of the correlation coefficients: ','\\n',p,'\\n')\n",
        "print('unweighted covariance matrix of X normalized to nobs: ','\\n',wcov,'\\n')\n",
        "print('unweighted standard deviations X normalized to nobs: ','\\n',wstd)"
      ],
      "metadata": {
        "colab": {
          "base_uri": "https://localhost:8080/"
        },
        "id": "xEony1rl8Pc5",
        "outputId": "d8f92d34-ae74-4b0c-b821-b49ccc186347"
      },
      "execution_count": 7,
      "outputs": [
        {
          "output_type": "stream",
          "name": "stdout",
          "text": [
            "unweighted correlation coefficient matrix of X normalized to nobs:  \n",
            " [[1.         0.15578811 0.22268743]\n",
            " [0.15578811 1.         0.51184337]\n",
            " [0.22268743 0.51184337 1.        ]] \n",
            "\n",
            "p-values of the correlation coefficients:  \n",
            " [[0.00000000e+00 1.21679870e-01 2.59526981e-02]\n",
            " [1.21679870e-01 0.00000000e+00 5.24599575e-08]\n",
            " [2.59526981e-02 5.24599575e-08 0.00000000e+00]] \n",
            "\n",
            "unweighted covariance matrix of X normalized to nobs:  \n",
            " [[698.98    27.51    40.61  ]\n",
            " [ 27.51    44.6116  23.5812]\n",
            " [ 40.61    23.5812  47.5784]] \n",
            "\n",
            "unweighted standard deviations X normalized to nobs:  \n",
            " [26.4382299   6.67919157  6.89770976]\n"
          ]
        }
      ]
    },
    {
      "cell_type": "markdown",
      "source": [
        "**Method used to calculate p-values of the correlation coefficients**\n",
        "\n",
        "The method used to calculate the p-values of the correlation coefficients is the same as the method used by scipy.stats.pearsonr. A beta distribution is used on the interval [-1, 1], with equal shape parameters a = b = nobs/2 - 1. In terms of SciPy’s implementation of the beta distribution, the distribution of r is:"
      ],
      "metadata": {
        "id": "fVftDfwXbcJa"
      }
    },
    {
      "cell_type": "code",
      "source": [
        "import scipy.stats\n",
        "nobs = np.shape(X)[0]\n",
        "dist = scipy.stats.beta(nobs/2 - 1, nobs/2 - 1, loc=-1, scale=2)"
      ],
      "metadata": {
        "id": "gykBRoyYbdPB"
      },
      "execution_count": 8,
      "outputs": []
    },
    {
      "cell_type": "markdown",
      "source": [
        "The default p-value is a two-sided p-value. For a given sample with correlation coefficient r, the p-value is the probability that abs(r’) of a random sample x’ and y’ drawn from the population with zero correlation would be greater than or equal to abs(r). In terms of the object dist shown above, the p-value for a given r and length n can be computed as:"
      ],
      "metadata": {
        "id": "gosgRVAbbkqn"
      }
    },
    {
      "cell_type": "code",
      "source": [
        "r = output['R']\n",
        "p = 2*dist.cdf(-abs(r))\n",
        "print('p-values of the correlation coefficients: ','\\n',p)"
      ],
      "metadata": {
        "colab": {
          "base_uri": "https://localhost:8080/"
        },
        "id": "3jub_bCWbok2",
        "outputId": "23b5a0b9-05d1-47d0-dae2-249605703598"
      },
      "execution_count": 9,
      "outputs": [
        {
          "output_type": "stream",
          "name": "stdout",
          "text": [
            "p-values of the correlation coefficients:  \n",
            " [[0.00000000e+00 1.21679870e-01 2.59526981e-02]\n",
            " [1.21679870e-01 0.00000000e+00 5.24599575e-08]\n",
            " [2.59526981e-02 5.24599575e-08 0.00000000e+00]]\n"
          ]
        }
      ]
    }
  ]
}